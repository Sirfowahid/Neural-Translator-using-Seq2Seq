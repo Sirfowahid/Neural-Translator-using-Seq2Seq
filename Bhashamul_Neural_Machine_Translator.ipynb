{
 "cells": [
  {
   "cell_type": "markdown",
   "metadata": {
    "id": "51P-Qx23ypFM"
   },
   "source": [
    "# **Importing Necessary Libraries**"
   ]
  },
  {
   "cell_type": "code",
   "execution_count": 1,
   "metadata": {
    "id": "EiqFydqTx9vs"
   },
   "outputs": [],
   "source": [
    "import numpy as np\n",
    "import pandas as pd\n",
    "import matplotlib.pyplot as plt\n",
    "import seaborn as sns\n",
    "from datetime import datetime\n",
    "from tqdm import tqdm"
   ]
  },
  {
   "cell_type": "code",
   "execution_count": 2,
   "metadata": {
    "id": "8DyLPaiAyVa0"
   },
   "outputs": [],
   "source": [
    "import spacy\n",
    "import torch\n",
    "import torch.nn as nn\n",
    "import torchtext"
   ]
  },
  {
   "cell_type": "code",
   "execution_count": 3,
   "metadata": {
    "id": "t-aZsO3Bymwq"
   },
   "outputs": [],
   "source": [
    "import torch\n",
    "import torch.nn as nn\n",
    "import torch.optim as optim\n",
    "import torchtext\n",
    "import torchtext.data as data\n",
    "from torchtext.data import Field, BucketIterator, TabularDataset\n",
    "from torchtext.data.metrics import bleu_score"
   ]
  },
  {
   "cell_type": "markdown",
   "metadata": {
    "id": "5c0Zy9x3yvW6"
   },
   "source": [
    "# **Importing Dataset**"
   ]
  },
  {
   "cell_type": "code",
   "execution_count": 4,
   "metadata": {
    "colab": {
     "base_uri": "https://localhost:8080/"
    },
    "id": "wKY_GhnNyzeb",
    "outputId": "cf970e51-f31f-46fa-fddb-f0ef89587044"
   },
   "outputs": [
    {
     "data": {
      "text/html": [
       "<div>\n",
       "<style scoped>\n",
       "    .dataframe tbody tr th:only-of-type {\n",
       "        vertical-align: middle;\n",
       "    }\n",
       "\n",
       "    .dataframe tbody tr th {\n",
       "        vertical-align: top;\n",
       "    }\n",
       "\n",
       "    .dataframe thead th {\n",
       "        text-align: right;\n",
       "    }\n",
       "</style>\n",
       "<table border=\"1\" class=\"dataframe\">\n",
       "  <thead>\n",
       "    <tr style=\"text-align: right;\">\n",
       "      <th></th>\n",
       "      <th>Index</th>\n",
       "      <th>District</th>\n",
       "      <th>Contents</th>\n",
       "      <th>IPA</th>\n",
       "    </tr>\n",
       "  </thead>\n",
       "  <tbody>\n",
       "    <tr>\n",
       "      <th>0</th>\n",
       "      <td>rng_0</td>\n",
       "      <td>Rangpur</td>\n",
       "      <td>লেখিয়্যা, কালি দিয়্যা, সেই সুন্দর করিয়া, এখন স...</td>\n",
       "      <td>lekʰɪʲt̪ɐ, kɐlɪ d̪ɪkt̪ɐ, ʃe͡ɪ̯ ʃund̪ɔɾ koɾɪʲɐ,...</td>\n",
       "    </tr>\n",
       "    <tr>\n",
       "      <th>1</th>\n",
       "      <td>rng_1</td>\n",
       "      <td>Rangpur</td>\n",
       "      <td>হ, একটা ফিল্ডিং গ্রুপ ছিলো।</td>\n",
       "      <td>ho, ɛktɐ pʰɪldɪŋ gɾup cʰɪlo।</td>\n",
       "    </tr>\n",
       "    <tr>\n",
       "      <th>2</th>\n",
       "      <td>rng_2</td>\n",
       "      <td>Rangpur</td>\n",
       "      <td>হ, ওরে কতা &lt;&gt; বুজচি বিষয়টা, ওয় তো এখনও বেরাজিল...</td>\n",
       "      <td>ho, oɾe kɔt̪ɐ &lt;&gt; buɟcɪ bɪʃɔʲtɐ, oe̯ t̪o ɛkʰono...</td>\n",
       "    </tr>\n",
       "    <tr>\n",
       "      <th>3</th>\n",
       "      <td>rng_3</td>\n",
       "      <td>Rangpur</td>\n",
       "      <td>সিডায়, ওই সমায় আমরা ওই কানির রুমটাত যকন আছনো এ...</td>\n",
       "      <td>ʃɪdɐe̯, o͡ɪ̯ ʃɔmɐe̯ ɐmɾɐ o͡ɪ̯ kɐnɪɾ ɾumtɐt̪ ɟɔ...</td>\n",
       "    </tr>\n",
       "    <tr>\n",
       "      <th>4</th>\n",
       "      <td>rng_4</td>\n",
       "      <td>Rangpur</td>\n",
       "      <td>যকন কী ইয়্যা হইছিল, ওই যে সুমন আর হইলো আলম &lt;&gt; ...</td>\n",
       "      <td>ɟɔkon kɪ ɪʲlɐ ho͡ɪ̯cʰɪlo, o͡ɪ̯ ɟe ʃumɔn ɐɾ ho͡...</td>\n",
       "    </tr>\n",
       "  </tbody>\n",
       "</table>\n",
       "</div>"
      ],
      "text/plain": [
       "   Index District                                           Contents  \\\n",
       "0  rng_0  Rangpur  লেখিয়্যা, কালি দিয়্যা, সেই সুন্দর করিয়া, এখন স...   \n",
       "1  rng_1  Rangpur                        হ, একটা ফিল্ডিং গ্রুপ ছিলো।   \n",
       "2  rng_2  Rangpur  হ, ওরে কতা <> বুজচি বিষয়টা, ওয় তো এখনও বেরাজিল...   \n",
       "3  rng_3  Rangpur  সিডায়, ওই সমায় আমরা ওই কানির রুমটাত যকন আছনো এ...   \n",
       "4  rng_4  Rangpur  যকন কী ইয়্যা হইছিল, ওই যে সুমন আর হইলো আলম <> ...   \n",
       "\n",
       "                                                 IPA  \n",
       "0  lekʰɪʲt̪ɐ, kɐlɪ d̪ɪkt̪ɐ, ʃe͡ɪ̯ ʃund̪ɔɾ koɾɪʲɐ,...  \n",
       "1                       ho, ɛktɐ pʰɪldɪŋ gɾup cʰɪlo।  \n",
       "2  ho, oɾe kɔt̪ɐ <> buɟcɪ bɪʃɔʲtɐ, oe̯ t̪o ɛkʰono...  \n",
       "3  ʃɪdɐe̯, o͡ɪ̯ ʃɔmɐe̯ ɐmɾɐ o͡ɪ̯ kɐnɪɾ ɾumtɐt̪ ɟɔ...  \n",
       "4  ɟɔkon kɪ ɪʲlɐ ho͡ɪ̯cʰɪlo, o͡ɪ̯ ɟe ʃumɔn ɐɾ ho͡...  "
      ]
     },
     "execution_count": 4,
     "metadata": {},
     "output_type": "execute_result"
    }
   ],
   "source": [
    "dataset_train = pd.read_csv('Dataset/train_regipa.csv')\n",
    "dataset_train.head()"
   ]
  },
  {
   "cell_type": "code",
   "execution_count": 5,
   "metadata": {
    "colab": {
     "base_uri": "https://localhost:8080/"
    },
    "id": "s3U8xkvgL4_e",
    "outputId": "5863a9b1-1a80-4771-9ba5-bc2528986dae"
   },
   "outputs": [
    {
     "data": {
      "text/plain": [
       "<Axes: >"
      ]
     },
     "execution_count": 5,
     "metadata": {},
     "output_type": "execute_result"
    },
    {
     "data": {
      "image/png": "[encoded data removed]",
      "text/plain": [
       "<Figure size 640x480 with 1 Axes>"
      ]
     },
     "metadata": {},
     "output_type": "display_data"
    }
   ],
   "source": [
    "dataset_train.District.hist()"
   ]
  },
  {
   "cell_type": "code",
   "execution_count": 6,
   "metadata": {
    "colab": {
     "base_uri": "https://localhost:8080/"
    },
    "id": "-v_5f_kJ9CrI",
    "outputId": "504c606d-a094-47fb-8d69-4a697d7ed7be"
   },
   "outputs": [
    {
     "data": {
      "text/html": [
       "<div>\n",
       "<style scoped>\n",
       "    .dataframe tbody tr th:only-of-type {\n",
       "        vertical-align: middle;\n",
       "    }\n",
       "\n",
       "    .dataframe tbody tr th {\n",
       "        vertical-align: top;\n",
       "    }\n",
       "\n",
       "    .dataframe thead th {\n",
       "        text-align: right;\n",
       "    }\n",
       "</style>\n",
       "<table border=\"1\" class=\"dataframe\">\n",
       "  <thead>\n",
       "    <tr style=\"text-align: right;\">\n",
       "      <th></th>\n",
       "      <th>id</th>\n",
       "      <th>string</th>\n",
       "    </tr>\n",
       "  </thead>\n",
       "  <tbody>\n",
       "    <tr>\n",
       "      <th>0</th>\n",
       "      <td>0</td>\n",
       "      <td>ɐbbɐ͡ɪ̯ tʰɪk koɾcʰe।</td>\n",
       "    </tr>\n",
       "    <tr>\n",
       "      <th>1</th>\n",
       "      <td>1</td>\n",
       "      <td>ɐbbɐ͡ɪ̯ tʰɪk koɾcʰe।</td>\n",
       "    </tr>\n",
       "    <tr>\n",
       "      <th>2</th>\n",
       "      <td>2</td>\n",
       "      <td>ɐbbɐ͡ɪ̯ tʰɪk koɾcʰe।</td>\n",
       "    </tr>\n",
       "    <tr>\n",
       "      <th>3</th>\n",
       "      <td>3</td>\n",
       "      <td>ɐbbɐ͡ɪ̯ tʰɪk koɾcʰe।</td>\n",
       "    </tr>\n",
       "    <tr>\n",
       "      <th>4</th>\n",
       "      <td>4</td>\n",
       "      <td>ɐbbɐ͡ɪ̯ tʰɪk koɾcʰe।</td>\n",
       "    </tr>\n",
       "  </tbody>\n",
       "</table>\n",
       "</div>"
      ],
      "text/plain": [
       "   id                string\n",
       "0   0  ɐbbɐ͡ɪ̯ tʰɪk koɾcʰe।\n",
       "1   1  ɐbbɐ͡ɪ̯ tʰɪk koɾcʰe।\n",
       "2   2  ɐbbɐ͡ɪ̯ tʰɪk koɾcʰe।\n",
       "3   3  ɐbbɐ͡ɪ̯ tʰɪk koɾcʰe।\n",
       "4   4  ɐbbɐ͡ɪ̯ tʰɪk koɾcʰe।"
      ]
     },
     "execution_count": 6,
     "metadata": {},
     "output_type": "execute_result"
    }
   ],
   "source": [
    "sample_submission = pd.read_csv('Dataset/sample_submission.csv')\n",
    "sample_submission.head()"
   ]
  },
  {
   "cell_type": "markdown",
   "metadata": {
    "id": "qVeSIlyOKejm"
   },
   "source": [
    "# **Filtering Dataset**"
   ]
  },
  {
   "cell_type": "code",
   "execution_count": 7,
   "metadata": {
    "colab": {
     "base_uri": "https://localhost:8080/",
     "height": 447
    },
    "id": "MpI4t7_OKnjm",
    "outputId": "c302cf8e-2260-4abf-95f8-0766e874b26c"
   },
   "outputs": [
    {
     "data": {
      "text/plain": [
       "<Axes: >"
      ]
     },
     "execution_count": 7,
     "metadata": {},
     "output_type": "execute_result"
    },
    {
     "data": {
      "image/png": "[encoded data removed]",
      "text/plain": [
       "<Figure size 640x480 with 1 Axes>"
      ]
     },
     "metadata": {},
     "output_type": "display_data"
    }
   ],
   "source": [
    "rows_to_keep_per_category = 400\n",
    "\n",
    "dataset_train = dataset_train.groupby('District')\n",
    "dataset_train.head()\n",
    "\n",
    "def select_rows(group):\n",
    "    return group.head(rows_to_keep_per_category)\n",
    "\n",
    "dataset_train = dataset_train.apply(select_rows).reset_index(drop=True)\n",
    "dataset_train.District.hist()"
   ]
  },
  {
   "cell_type": "markdown",
   "metadata": {
    "id": "YapiipkL0C5q"
   },
   "source": [
    "# **Performing EDA into the dataset**"
   ]
  },
  {
   "cell_type": "code",
   "execution_count": 8,
   "metadata": {
    "colab": {
     "base_uri": "https://localhost:8080/"
    },
    "id": "CRIlBZ7Fy_Wb",
    "outputId": "acf02c13-c4e8-4e79-969e-df337ccdad94"
   },
   "outputs": [
    {
     "data": {
      "text/plain": [
       "(2400, 4)"
      ]
     },
     "execution_count": 8,
     "metadata": {},
     "output_type": "execute_result"
    }
   ],
   "source": [
    "dataset_train.shape"
   ]
  },
  {
   "cell_type": "code",
   "execution_count": 9,
   "metadata": {
    "colab": {
     "base_uri": "https://localhost:8080/"
    },
    "id": "xusfO2RWzCL4",
    "outputId": "4a03a02b-5198-4f5e-dfa5-dd118e050b4c"
   },
   "outputs": [
    {
     "data": {
      "text/html": [
       "<div>\n",
       "<style scoped>\n",
       "    .dataframe tbody tr th:only-of-type {\n",
       "        vertical-align: middle;\n",
       "    }\n",
       "\n",
       "    .dataframe tbody tr th {\n",
       "        vertical-align: top;\n",
       "    }\n",
       "\n",
       "    .dataframe thead th {\n",
       "        text-align: right;\n",
       "    }\n",
       "</style>\n",
       "<table border=\"1\" class=\"dataframe\">\n",
       "  <thead>\n",
       "    <tr style=\"text-align: right;\">\n",
       "      <th></th>\n",
       "      <th>Index</th>\n",
       "      <th>District</th>\n",
       "      <th>Contents</th>\n",
       "      <th>IPA</th>\n",
       "    </tr>\n",
       "  </thead>\n",
       "  <tbody>\n",
       "    <tr>\n",
       "      <th>count</th>\n",
       "      <td>2400</td>\n",
       "      <td>2400</td>\n",
       "      <td>2400</td>\n",
       "      <td>2000</td>\n",
       "    </tr>\n",
       "    <tr>\n",
       "      <th>unique</th>\n",
       "      <td>2400</td>\n",
       "      <td>6</td>\n",
       "      <td>2378</td>\n",
       "      <td>1982</td>\n",
       "    </tr>\n",
       "    <tr>\n",
       "      <th>top</th>\n",
       "      <td>ctg_0</td>\n",
       "      <td>Chittagong</td>\n",
       "      <td>&lt;&gt;</td>\n",
       "      <td>ho।</td>\n",
       "    </tr>\n",
       "    <tr>\n",
       "      <th>freq</th>\n",
       "      <td>1</td>\n",
       "      <td>400</td>\n",
       "      <td>4</td>\n",
       "      <td>4</td>\n",
       "    </tr>\n",
       "  </tbody>\n",
       "</table>\n",
       "</div>"
      ],
      "text/plain": [
       "        Index    District Contents   IPA\n",
       "count    2400        2400     2400  2000\n",
       "unique   2400           6     2378  1982\n",
       "top     ctg_0  Chittagong       <>   ho।\n",
       "freq        1         400        4     4"
      ]
     },
     "execution_count": 9,
     "metadata": {},
     "output_type": "execute_result"
    }
   ],
   "source": [
    "dataset_train.describe()"
   ]
  },
  {
   "cell_type": "code",
   "execution_count": 10,
   "metadata": {
    "colab": {
     "base_uri": "https://localhost:8080/"
    },
    "id": "k80KjV-UzGn4",
    "outputId": "7179d6a1-e4e8-451c-c623-b9b1b99470bd"
   },
   "outputs": [
    {
     "name": "stdout",
     "output_type": "stream",
     "text": [
      "<class 'pandas.core.frame.DataFrame'>\n",
      "RangeIndex: 2400 entries, 0 to 2399\n",
      "Data columns (total 4 columns):\n",
      " #   Column    Non-Null Count  Dtype \n",
      "---  ------    --------------  ----- \n",
      " 0   Index     2400 non-null   object\n",
      " 1   District  2400 non-null   object\n",
      " 2   Contents  2400 non-null   object\n",
      " 3   IPA       2000 non-null   object\n",
      "dtypes: object(4)\n",
      "memory usage: 75.1+ KB\n"
     ]
    }
   ],
   "source": [
    "dataset_train.info()"
   ]
  },
  {
   "cell_type": "code",
   "execution_count": 11,
   "metadata": {
    "colab": {
     "base_uri": "https://localhost:8080/"
    },
    "id": "RJMO8XYrzJwY",
    "outputId": "1ff848f9-6f03-4a40-cb28-388f3694686f"
   },
   "outputs": [
    {
     "data": {
      "text/plain": [
       "Index         0\n",
       "District      0\n",
       "Contents      0\n",
       "IPA         400\n",
       "dtype: int64"
      ]
     },
     "execution_count": 11,
     "metadata": {},
     "output_type": "execute_result"
    }
   ],
   "source": [
    "dataset_train.isna().sum()"
   ]
  },
  {
   "cell_type": "code",
   "execution_count": 12,
   "metadata": {
    "id": "sc6pLIAH31V6"
   },
   "outputs": [],
   "source": [
    "dataset_train.drop_duplicates(inplace=True)"
   ]
  },
  {
   "cell_type": "code",
   "execution_count": 13,
   "metadata": {
    "colab": {
     "base_uri": "https://localhost:8080/"
    },
    "id": "BuUQBJwqzQe-",
    "outputId": "bca70d2b-1708-4f75-908d-3653771f58a6"
   },
   "outputs": [
    {
     "data": {
      "text/plain": [
       "District\n",
       "Chittagong     400\n",
       "Kishoreganj    400\n",
       "Narail         400\n",
       "Narsingdi      400\n",
       "Rangpur        400\n",
       "Tangail        400\n",
       "Name: count, dtype: int64"
      ]
     },
     "execution_count": 13,
     "metadata": {},
     "output_type": "execute_result"
    }
   ],
   "source": [
    "dataset_train.District.value_counts()"
   ]
  },
  {
   "cell_type": "code",
   "execution_count": 14,
   "metadata": {
    "colab": {
     "base_uri": "https://localhost:8080/"
    },
    "id": "aVz0gBxozZYs",
    "outputId": "e9cb5069-6bb6-4e88-c4b6-749a73cf5b9a"
   },
   "outputs": [
    {
     "name": "stderr",
     "output_type": "stream",
     "text": [
      "C:\\Users\\Sirfowahid\\anaconda3\\envs\\Pytorch\\Lib\\site-packages\\seaborn\\_oldcore.py:1498: FutureWarning: is_categorical_dtype is deprecated and will be removed in a future version. Use isinstance(dtype, CategoricalDtype) instead\n",
      "  if pd.api.types.is_categorical_dtype(vector):\n",
      "C:\\Users\\Sirfowahid\\anaconda3\\envs\\Pytorch\\Lib\\site-packages\\seaborn\\_oldcore.py:1498: FutureWarning: is_categorical_dtype is deprecated and will be removed in a future version. Use isinstance(dtype, CategoricalDtype) instead\n",
      "  if pd.api.types.is_categorical_dtype(vector):\n",
      "C:\\Users\\Sirfowahid\\anaconda3\\envs\\Pytorch\\Lib\\site-packages\\seaborn\\_oldcore.py:1119: FutureWarning: use_inf_as_na option is deprecated and will be removed in a future version. Convert inf values to NaN before operating instead.\n",
      "  with pd.option_context('mode.use_inf_as_na', True):\n"
     ]
    },
    {
     "data": {
      "image/png": "[encoded data removed]",
      "text/plain": [
       "<Figure size 640x480 with 1 Axes>"
      ]
     },
     "metadata": {},
     "output_type": "display_data"
    }
   ],
   "source": [
    "sns.histplot(dataset_train.District)\n",
    "plt.xlabel('District')\n",
    "plt.ylabel('Count')\n",
    "plt.title(\"Train Data Form Different District\")\n",
    "plt.show()"
   ]
  },
  {
   "cell_type": "code",
   "execution_count": 15,
   "metadata": {
    "id": "QXPelor6zrV2"
   },
   "outputs": [],
   "source": [
    "dataset_train_without_na = dataset_train.dropna().copy()"
   ]
  },
  {
   "cell_type": "code",
   "execution_count": 16,
   "metadata": {
    "colab": {
     "base_uri": "https://localhost:8080/"
    },
    "id": "ZUDmfXvt0inK",
    "outputId": "9e8393e2-a1e9-4850-bdcc-c18a8acbc8d4"
   },
   "outputs": [
    {
     "data": {
      "text/plain": [
       "Index       0\n",
       "District    0\n",
       "Contents    0\n",
       "IPA         0\n",
       "dtype: int64"
      ]
     },
     "execution_count": 16,
     "metadata": {},
     "output_type": "execute_result"
    }
   ],
   "source": [
    "dataset_train_without_na.isna().sum()"
   ]
  },
  {
   "cell_type": "code",
   "execution_count": 17,
   "metadata": {
    "colab": {
     "base_uri": "https://localhost:8080/"
    },
    "id": "T2RwtwJU0ltY",
    "outputId": "beddfa1e-3580-46f9-fc1e-abb7b1f0cbca"
   },
   "outputs": [
    {
     "data": {
      "text/plain": [
       "Index         0\n",
       "District      0\n",
       "Contents      0\n",
       "IPA         400\n",
       "dtype: int64"
      ]
     },
     "execution_count": 17,
     "metadata": {},
     "output_type": "execute_result"
    }
   ],
   "source": [
    "dataset_train.isna().sum()"
   ]
  },
  {
   "cell_type": "code",
   "execution_count": 18,
   "metadata": {
    "colab": {
     "base_uri": "https://localhost:8080/"
    },
    "id": "dgrYADtW0qGq",
    "outputId": "9e5f309c-147c-4047-dd08-556a5f5031cf"
   },
   "outputs": [
    {
     "data": {
      "text/plain": [
       "(2000, 4)"
      ]
     },
     "execution_count": 18,
     "metadata": {},
     "output_type": "execute_result"
    }
   ],
   "source": [
    "dataset_train_without_na.shape"
   ]
  },
  {
   "cell_type": "code",
   "execution_count": 19,
   "metadata": {
    "colab": {
     "base_uri": "https://localhost:8080/"
    },
    "id": "B8ana_7E2xgH",
    "outputId": "cc331b2b-ebd3-4e28-83e0-668101c4d0c6"
   },
   "outputs": [
    {
     "data": {
      "text/plain": [
       "District\n",
       "Kishoreganj    400\n",
       "Narail         400\n",
       "Narsingdi      400\n",
       "Rangpur        400\n",
       "Tangail        400\n",
       "Name: count, dtype: int64"
      ]
     },
     "execution_count": 19,
     "metadata": {},
     "output_type": "execute_result"
    }
   ],
   "source": [
    "dataset_train_without_na.District.value_counts()"
   ]
  },
  {
   "cell_type": "code",
   "execution_count": 20,
   "metadata": {
    "colab": {
     "base_uri": "https://localhost:8080/"
    },
    "id": "GZmrP3sJ28_5",
    "outputId": "26cace25-307b-4792-cb62-5e4cd4d5b564"
   },
   "outputs": [
    {
     "name": "stderr",
     "output_type": "stream",
     "text": [
      "C:\\Users\\Sirfowahid\\anaconda3\\envs\\Pytorch\\Lib\\site-packages\\seaborn\\_oldcore.py:1498: FutureWarning: is_categorical_dtype is deprecated and will be removed in a future version. Use isinstance(dtype, CategoricalDtype) instead\n",
      "  if pd.api.types.is_categorical_dtype(vector):\n",
      "C:\\Users\\Sirfowahid\\anaconda3\\envs\\Pytorch\\Lib\\site-packages\\seaborn\\_oldcore.py:1498: FutureWarning: is_categorical_dtype is deprecated and will be removed in a future version. Use isinstance(dtype, CategoricalDtype) instead\n",
      "  if pd.api.types.is_categorical_dtype(vector):\n",
      "C:\\Users\\Sirfowahid\\anaconda3\\envs\\Pytorch\\Lib\\site-packages\\seaborn\\_oldcore.py:1119: FutureWarning: use_inf_as_na option is deprecated and will be removed in a future version. Convert inf values to NaN before operating instead.\n",
      "  with pd.option_context('mode.use_inf_as_na', True):\n"
     ]
    },
    {
     "data": {
      "image/png": "[encoded data removed]",
      "text/plain": [
       "<Figure size 640x480 with 1 Axes>"
      ]
     },
     "metadata": {},
     "output_type": "display_data"
    }
   ],
   "source": [
    "sns.histplot(dataset_train_without_na.District)\n",
    "plt.xlabel(\"District\")\n",
    "plt.ylabel(\"Count\")\n",
    "plt.title(\"Training Data without missing values\")\n",
    "plt.show()"
   ]
  },
  {
   "cell_type": "code",
   "execution_count": 21,
   "metadata": {
    "colab": {
     "base_uri": "https://localhost:8080/"
    },
    "id": "x5NG6Zhd0vtK",
    "outputId": "9d5cea32-fc37-4932-91bf-c8d45cdea203"
   },
   "outputs": [
    {
     "data": {
      "text/html": [
       "<div>\n",
       "<style scoped>\n",
       "    .dataframe tbody tr th:only-of-type {\n",
       "        vertical-align: middle;\n",
       "    }\n",
       "\n",
       "    .dataframe tbody tr th {\n",
       "        vertical-align: top;\n",
       "    }\n",
       "\n",
       "    .dataframe thead th {\n",
       "        text-align: right;\n",
       "    }\n",
       "</style>\n",
       "<table border=\"1\" class=\"dataframe\">\n",
       "  <thead>\n",
       "    <tr style=\"text-align: right;\">\n",
       "      <th></th>\n",
       "      <th>Index</th>\n",
       "      <th>District</th>\n",
       "      <th>Contents</th>\n",
       "      <th>IPA</th>\n",
       "    </tr>\n",
       "  </thead>\n",
       "  <tbody>\n",
       "    <tr>\n",
       "      <th>0</th>\n",
       "      <td>ctg_0</td>\n",
       "      <td>Chittagong</td>\n",
       "      <td>যেত্তে টাইম ফায় এত্তে এ দুনোউয়ারে অফমান গরে।</td>\n",
       "      <td>NaN</td>\n",
       "    </tr>\n",
       "    <tr>\n",
       "      <th>1</th>\n",
       "      <td>ctg_1</td>\n",
       "      <td>Chittagong</td>\n",
       "      <td>ইতেরা সি আর অইয়্যে ইতারা, অফমান গইরতু ন ক্যায়া!</td>\n",
       "      <td>NaN</td>\n",
       "    </tr>\n",
       "    <tr>\n",
       "      <th>2</th>\n",
       "      <td>ctg_2</td>\n",
       "      <td>Chittagong</td>\n",
       "      <td>মানে ইতারার খাতা দেহে দে ইতারা ত্রিশের মধ্যে এ...</td>\n",
       "      <td>NaN</td>\n",
       "    </tr>\n",
       "    <tr>\n",
       "      <th>3</th>\n",
       "      <td>ctg_3</td>\n",
       "      <td>Chittagong</td>\n",
       "      <td>খয়দে সিআরের এইল্লা কি অবস্থা!</td>\n",
       "      <td>NaN</td>\n",
       "    </tr>\n",
       "    <tr>\n",
       "      <th>4</th>\n",
       "      <td>ctg_4</td>\n",
       "      <td>Chittagong</td>\n",
       "      <td>ছি!</td>\n",
       "      <td>NaN</td>\n",
       "    </tr>\n",
       "  </tbody>\n",
       "</table>\n",
       "</div>"
      ],
      "text/plain": [
       "   Index    District                                           Contents  IPA\n",
       "0  ctg_0  Chittagong       যেত্তে টাইম ফায় এত্তে এ দুনোউয়ারে অফমান গরে।  NaN\n",
       "1  ctg_1  Chittagong    ইতেরা সি আর অইয়্যে ইতারা, অফমান গইরতু ন ক্যায়া!  NaN\n",
       "2  ctg_2  Chittagong  মানে ইতারার খাতা দেহে দে ইতারা ত্রিশের মধ্যে এ...  NaN\n",
       "3  ctg_3  Chittagong                      খয়দে সিআরের এইল্লা কি অবস্থা!  NaN\n",
       "4  ctg_4  Chittagong                                                ছি!  NaN"
      ]
     },
     "execution_count": 21,
     "metadata": {},
     "output_type": "execute_result"
    }
   ],
   "source": [
    "dataset_train_only_na = dataset_train[dataset_train.IPA.isna()].copy()\n",
    "dataset_train_only_na.head()"
   ]
  },
  {
   "cell_type": "code",
   "execution_count": 22,
   "metadata": {
    "colab": {
     "base_uri": "https://localhost:8080/"
    },
    "id": "iEyEYDjY1X45",
    "outputId": "5e29cb91-5c36-4add-9e18-744a79287b89"
   },
   "outputs": [
    {
     "data": {
      "text/plain": [
       "(400, 4)"
      ]
     },
     "execution_count": 22,
     "metadata": {},
     "output_type": "execute_result"
    }
   ],
   "source": [
    "dataset_train_only_na.shape"
   ]
  },
  {
   "cell_type": "code",
   "execution_count": 23,
   "metadata": {
    "colab": {
     "base_uri": "https://localhost:8080/"
    },
    "id": "9Xr2FDv81oxp",
    "outputId": "364c1a16-d52c-4cfd-a551-9f4c60ce184d"
   },
   "outputs": [
    {
     "data": {
      "text/plain": [
       "District\n",
       "Chittagong    400\n",
       "Name: count, dtype: int64"
      ]
     },
     "execution_count": 23,
     "metadata": {},
     "output_type": "execute_result"
    }
   ],
   "source": [
    "dataset_train_only_na.District.value_counts()"
   ]
  },
  {
   "cell_type": "code",
   "execution_count": 24,
   "metadata": {
    "colab": {
     "base_uri": "https://localhost:8080/"
    },
    "id": "xYJvWPoE2QG_",
    "outputId": "d7ffa028-16a2-43b0-fbc2-9c116ac86d1f"
   },
   "outputs": [
    {
     "name": "stderr",
     "output_type": "stream",
     "text": [
      "C:\\Users\\Sirfowahid\\anaconda3\\envs\\Pytorch\\Lib\\site-packages\\seaborn\\_oldcore.py:1498: FutureWarning: is_categorical_dtype is deprecated and will be removed in a future version. Use isinstance(dtype, CategoricalDtype) instead\n",
      "  if pd.api.types.is_categorical_dtype(vector):\n",
      "C:\\Users\\Sirfowahid\\anaconda3\\envs\\Pytorch\\Lib\\site-packages\\seaborn\\_oldcore.py:1498: FutureWarning: is_categorical_dtype is deprecated and will be removed in a future version. Use isinstance(dtype, CategoricalDtype) instead\n",
      "  if pd.api.types.is_categorical_dtype(vector):\n",
      "C:\\Users\\Sirfowahid\\anaconda3\\envs\\Pytorch\\Lib\\site-packages\\seaborn\\_oldcore.py:1119: FutureWarning: use_inf_as_na option is deprecated and will be removed in a future version. Convert inf values to NaN before operating instead.\n",
      "  with pd.option_context('mode.use_inf_as_na', True):\n"
     ]
    },
    {
     "data": {
      "image/png": "[encoded data removed]",
      "text/plain": [
       "<Figure size 640x480 with 1 Axes>"
      ]
     },
     "metadata": {},
     "output_type": "display_data"
    }
   ],
   "source": [
    "sns.histplot(dataset_train_only_na.District)\n",
    "plt.xlabel('District')\n",
    "plt.ylabel('Count')\n",
    "plt.title('Missing Values in the Training Datasaet')\n",
    "plt.show()"
   ]
  },
  {
   "cell_type": "markdown",
   "metadata": {
    "id": "Fqhh0_yc7dBA"
   },
   "source": [
    "# **Formating The Dataset and Export**"
   ]
  },
  {
   "cell_type": "code",
   "execution_count": 25,
   "metadata": {
    "colab": {
     "base_uri": "https://localhost:8080/"
    },
    "id": "kivl1ybh51Ex",
    "outputId": "f2903cda-dacd-4704-c349-bec4a2b3cf9d"
   },
   "outputs": [
    {
     "data": {
      "text/plain": [
       "Index(['Index', 'District', 'Contents', 'IPA'], dtype='object')"
      ]
     },
     "execution_count": 25,
     "metadata": {},
     "output_type": "execute_result"
    }
   ],
   "source": [
    "dataset_train_without_na.columns"
   ]
  },
  {
   "cell_type": "code",
   "execution_count": 26,
   "metadata": {
    "id": "Guwr3V8p7yu3"
   },
   "outputs": [],
   "source": [
    "train = dataset_train_without_na[['Contents', 'IPA']].copy()"
   ]
  },
  {
   "cell_type": "code",
   "execution_count": 27,
   "metadata": {
    "colab": {
     "base_uri": "https://localhost:8080/"
    },
    "id": "acq8uAjg7-cX",
    "outputId": "812379ca-f33a-4e81-8b87-726989f29d33"
   },
   "outputs": [
    {
     "data": {
      "text/html": [
       "<div>\n",
       "<style scoped>\n",
       "    .dataframe tbody tr th:only-of-type {\n",
       "        vertical-align: middle;\n",
       "    }\n",
       "\n",
       "    .dataframe tbody tr th {\n",
       "        vertical-align: top;\n",
       "    }\n",
       "\n",
       "    .dataframe thead th {\n",
       "        text-align: right;\n",
       "    }\n",
       "</style>\n",
       "<table border=\"1\" class=\"dataframe\">\n",
       "  <thead>\n",
       "    <tr style=\"text-align: right;\">\n",
       "      <th></th>\n",
       "      <th>Contents</th>\n",
       "      <th>IPA</th>\n",
       "    </tr>\n",
       "  </thead>\n",
       "  <tbody>\n",
       "    <tr>\n",
       "      <th>400</th>\n",
       "      <td>আটাইশ করছিলাম দের কানি ক্ষেত, ইবার মাইর কাইছি।</td>\n",
       "      <td>ɐtɐ͡ɪ̯ʃ koɾcʰɪlɐm d̪eɾ kɐnɪ kʰet̪, ɪbɐɾ mɐ͡ɪ̯ɾ...</td>\n",
       "    </tr>\n",
       "    <tr>\n",
       "      <th>401</th>\n",
       "      <td>মাত্র অইছে দশ, এগারো &lt;&gt; আডাইশ করছুইন দের কানি,...</td>\n",
       "      <td>mɐt̪ɾo e͡ɪ̯cʰe d̪ɔʃ, ɛgɐɾo &lt;&gt; ɐdɐ͡ɪ̯ʃ koɾcʰu͡ɪ...</td>\n",
       "    </tr>\n",
       "    <tr>\n",
       "      <th>402</th>\n",
       "      <td>হ।</td>\n",
       "      <td>ho।</td>\n",
       "    </tr>\n",
       "    <tr>\n",
       "      <th>403</th>\n",
       "      <td>তে আডাইশ যে করছিলাইন, এডার বুদ্দি দিছিন কেলা?</td>\n",
       "      <td>t̪e ɐdɐ͡ɪ̯ʃ ɟe koɾcʰɪlɐ͡ɪ̯n, edɐɾ bud̪d̪ɪ d̪ɪc...</td>\n",
       "    </tr>\n",
       "    <tr>\n",
       "      <th>404</th>\n",
       "      <td>আরে কইন না যে এক ফাগলা বুদ্দি দিছিন &lt;&gt; আডাইশ ব...</td>\n",
       "      <td>ɐɾe ko͡ɪ̯n nɐ ɟe ɛk pʰɐglɐ bud̪d̪ɪ d̪ɪcʰɪn &lt;&gt; ...</td>\n",
       "    </tr>\n",
       "  </tbody>\n",
       "</table>\n",
       "</div>"
      ],
      "text/plain": [
       "                                              Contents  \\\n",
       "400     আটাইশ করছিলাম দের কানি ক্ষেত, ইবার মাইর কাইছি।   \n",
       "401  মাত্র অইছে দশ, এগারো <> আডাইশ করছুইন দের কানি,...   \n",
       "402                                                 হ।   \n",
       "403      তে আডাইশ যে করছিলাইন, এডার বুদ্দি দিছিন কেলা?   \n",
       "404  আরে কইন না যে এক ফাগলা বুদ্দি দিছিন <> আডাইশ ব...   \n",
       "\n",
       "                                                   IPA  \n",
       "400  ɐtɐ͡ɪ̯ʃ koɾcʰɪlɐm d̪eɾ kɐnɪ kʰet̪, ɪbɐɾ mɐ͡ɪ̯ɾ...  \n",
       "401  mɐt̪ɾo e͡ɪ̯cʰe d̪ɔʃ, ɛgɐɾo <> ɐdɐ͡ɪ̯ʃ koɾcʰu͡ɪ...  \n",
       "402                                                ho।  \n",
       "403  t̪e ɐdɐ͡ɪ̯ʃ ɟe koɾcʰɪlɐ͡ɪ̯n, edɐɾ bud̪d̪ɪ d̪ɪc...  \n",
       "404  ɐɾe ko͡ɪ̯n nɐ ɟe ɛk pʰɐglɐ bud̪d̪ɪ d̪ɪcʰɪn <> ...  "
      ]
     },
     "execution_count": 27,
     "metadata": {},
     "output_type": "execute_result"
    }
   ],
   "source": [
    "train.head()"
   ]
  },
  {
   "cell_type": "code",
   "execution_count": 28,
   "metadata": {
    "id": "9U1m5suk8AkW"
   },
   "outputs": [],
   "source": [
    "train.to_csv('train.csv',index=False)"
   ]
  },
  {
   "cell_type": "code",
   "execution_count": 29,
   "metadata": {
    "colab": {
     "base_uri": "https://localhost:8080/"
    },
    "id": "N0aBDxtq8LCX",
    "outputId": "2db33011-6981-4411-dd08-7a245984aec8"
   },
   "outputs": [
    {
     "data": {
      "text/html": [
       "<div>\n",
       "<style scoped>\n",
       "    .dataframe tbody tr th:only-of-type {\n",
       "        vertical-align: middle;\n",
       "    }\n",
       "\n",
       "    .dataframe tbody tr th {\n",
       "        vertical-align: top;\n",
       "    }\n",
       "\n",
       "    .dataframe thead th {\n",
       "        text-align: right;\n",
       "    }\n",
       "</style>\n",
       "<table border=\"1\" class=\"dataframe\">\n",
       "  <thead>\n",
       "    <tr style=\"text-align: right;\">\n",
       "      <th></th>\n",
       "      <th>Contents</th>\n",
       "      <th>IPA</th>\n",
       "    </tr>\n",
       "  </thead>\n",
       "  <tbody>\n",
       "    <tr>\n",
       "      <th>0</th>\n",
       "      <td>আটাইশ করছিলাম দের কানি ক্ষেত, ইবার মাইর কাইছি।</td>\n",
       "      <td>ɐtɐ͡ɪ̯ʃ koɾcʰɪlɐm d̪eɾ kɐnɪ kʰet̪, ɪbɐɾ mɐ͡ɪ̯ɾ...</td>\n",
       "    </tr>\n",
       "    <tr>\n",
       "      <th>1</th>\n",
       "      <td>মাত্র অইছে দশ, এগারো &lt;&gt; আডাইশ করছুইন দের কানি,...</td>\n",
       "      <td>mɐt̪ɾo e͡ɪ̯cʰe d̪ɔʃ, ɛgɐɾo &lt;&gt; ɐdɐ͡ɪ̯ʃ koɾcʰu͡ɪ...</td>\n",
       "    </tr>\n",
       "    <tr>\n",
       "      <th>2</th>\n",
       "      <td>হ।</td>\n",
       "      <td>ho।</td>\n",
       "    </tr>\n",
       "    <tr>\n",
       "      <th>3</th>\n",
       "      <td>তে আডাইশ যে করছিলাইন, এডার বুদ্দি দিছিন কেলা?</td>\n",
       "      <td>t̪e ɐdɐ͡ɪ̯ʃ ɟe koɾcʰɪlɐ͡ɪ̯n, edɐɾ bud̪d̪ɪ d̪ɪc...</td>\n",
       "    </tr>\n",
       "    <tr>\n",
       "      <th>4</th>\n",
       "      <td>আরে কইন না যে এক ফাগলা বুদ্দি দিছিন &lt;&gt; আডাইশ ব...</td>\n",
       "      <td>ɐɾe ko͡ɪ̯n nɐ ɟe ɛk pʰɐglɐ bud̪d̪ɪ d̪ɪcʰɪn &lt;&gt; ...</td>\n",
       "    </tr>\n",
       "  </tbody>\n",
       "</table>\n",
       "</div>"
      ],
      "text/plain": [
       "                                            Contents  \\\n",
       "0     আটাইশ করছিলাম দের কানি ক্ষেত, ইবার মাইর কাইছি।   \n",
       "1  মাত্র অইছে দশ, এগারো <> আডাইশ করছুইন দের কানি,...   \n",
       "2                                                 হ।   \n",
       "3      তে আডাইশ যে করছিলাইন, এডার বুদ্দি দিছিন কেলা?   \n",
       "4  আরে কইন না যে এক ফাগলা বুদ্দি দিছিন <> আডাইশ ব...   \n",
       "\n",
       "                                                 IPA  \n",
       "0  ɐtɐ͡ɪ̯ʃ koɾcʰɪlɐm d̪eɾ kɐnɪ kʰet̪, ɪbɐɾ mɐ͡ɪ̯ɾ...  \n",
       "1  mɐt̪ɾo e͡ɪ̯cʰe d̪ɔʃ, ɛgɐɾo <> ɐdɐ͡ɪ̯ʃ koɾcʰu͡ɪ...  \n",
       "2                                                ho।  \n",
       "3  t̪e ɐdɐ͡ɪ̯ʃ ɟe koɾcʰɪlɐ͡ɪ̯n, edɐɾ bud̪d̪ɪ d̪ɪc...  \n",
       "4  ɐɾe ko͡ɪ̯n nɐ ɟe ɛk pʰɐglɐ bud̪d̪ɪ d̪ɪcʰɪn <> ...  "
      ]
     },
     "execution_count": 29,
     "metadata": {},
     "output_type": "execute_result"
    }
   ],
   "source": [
    "pd.read_csv('train.csv').head()"
   ]
  },
  {
   "cell_type": "markdown",
   "metadata": {
    "id": "gEIxwiJk-3yo"
   },
   "source": [
    "# **Data Preprocessing**"
   ]
  },
  {
   "cell_type": "code",
   "execution_count": 30,
   "metadata": {
    "id": "WaImCtelFsja"
   },
   "outputs": [],
   "source": [
    "Contents = Field(tokenize=lambda x:x.split(),init_token='<sos>',eos_token='<eos>',batch_first=True)\n",
    "IPA = Field(tokenize=lambda x:x.split(),init_token='<sos>',eos_token='<eos>',batch_first=True)"
   ]
  },
  {
   "cell_type": "code",
   "execution_count": 31,
   "metadata": {
    "id": "vgWyIrhaFsja"
   },
   "outputs": [],
   "source": [
    "fields = [('src', Contents), ('trg', IPA)]"
   ]
  },
  {
   "cell_type": "code",
   "execution_count": 32,
   "metadata": {
    "id": "Cdqu2akHFsja"
   },
   "outputs": [],
   "source": [
    "dataset = TabularDataset(\n",
    "    path='train.csv',\n",
    "    format='csv',\n",
    "    fields=fields,\n",
    "    skip_header=True\n",
    ")"
   ]
  },
  {
   "cell_type": "code",
   "execution_count": 33,
   "metadata": {
    "id": "7Uc-f7uMFsja"
   },
   "outputs": [],
   "source": [
    "train_data, valid_data = dataset.split(split_ratio=0.8)"
   ]
  },
  {
   "cell_type": "code",
   "execution_count": 34,
   "metadata": {
    "id": "gAMtVjQnFsjb"
   },
   "outputs": [],
   "source": [
    "Contents.build_vocab(train_data)\n",
    "IPA.build_vocab(train_data)"
   ]
  },
  {
   "cell_type": "code",
   "execution_count": 35,
   "metadata": {
    "colab": {
     "base_uri": "https://localhost:8080/"
    },
    "id": "mCjJcv7JFsjb",
    "outputId": "3a9a0c9e-1c7a-49ba-ac9d-759e8c80d21e"
   },
   "outputs": [
    {
     "data": {
      "text/plain": [
       "['<unk>',\n",
       " '<pad>',\n",
       " '<sos>',\n",
       " '<eos>',\n",
       " '<>',\n",
       " 'তো',\n",
       " 'না',\n",
       " 'না।',\n",
       " 'কি',\n",
       " 'আমি',\n",
       " 'আর',\n",
       " 'যে',\n",
       " 'এই',\n",
       " 'কিন্তু',\n",
       " 'ওই',\n",
       " 'ভালো',\n",
       " 'আমার',\n",
       " 'ও',\n",
       " 'মনে',\n",
       " 'একটা']"
      ]
     },
     "execution_count": 35,
     "metadata": {},
     "output_type": "execute_result"
    }
   ],
   "source": [
    "list(Contents.vocab.stoi.keys())[:20]"
   ]
  },
  {
   "cell_type": "code",
   "execution_count": 36,
   "metadata": {
    "colab": {
     "base_uri": "https://localhost:8080/"
    },
    "id": "u4X7gttaFsjc",
    "outputId": "9d2713e7-f750-4bac-b553-5075818aa6e8"
   },
   "outputs": [
    {
     "data": {
      "text/plain": [
       "['<unk>',\n",
       " '<pad>',\n",
       " '<sos>',\n",
       " '<eos>',\n",
       " '<>',\n",
       " 't̪o',\n",
       " 'nɐ',\n",
       " 'nɐ।',\n",
       " 'kɪ',\n",
       " 'ɐmɪ',\n",
       " 'ɐɾ',\n",
       " 'ɟe',\n",
       " 'e͡ɪ̯',\n",
       " 'o͡ɪ̯',\n",
       " 'kɪnt̪u',\n",
       " 'bʱɐlo',\n",
       " 'ɐmɐɾ',\n",
       " 'o',\n",
       " 'mone',\n",
       " 'ɛktɐ']"
      ]
     },
     "execution_count": 36,
     "metadata": {},
     "output_type": "execute_result"
    }
   ],
   "source": [
    "list(IPA.vocab.stoi.keys())[:20]"
   ]
  },
  {
   "cell_type": "code",
   "execution_count": 37,
   "metadata": {
    "colab": {
     "base_uri": "https://localhost:8080/"
    },
    "id": "KU6Z37aOFsjc",
    "outputId": "fde56c6b-45f5-4b12-b848-2beac3843c5f"
   },
   "outputs": [
    {
     "name": "stdout",
     "output_type": "stream",
     "text": [
      "Content vocab: 4533 || IPA vocab: 4483\n"
     ]
    }
   ],
   "source": [
    "print(f\"Content vocab: {len(Contents.vocab)} || IPA vocab: {len(IPA.vocab)}\")"
   ]
  },
  {
   "cell_type": "code",
   "execution_count": 38,
   "metadata": {
    "colab": {
     "base_uri": "https://localhost:8080/"
    },
    "id": "wKKzC1amFsjc",
    "outputId": "e2eae5b5-5a92-424c-a664-35618e70e258"
   },
   "outputs": [
    {
     "name": "stdout",
     "output_type": "stream",
     "text": [
      "56\n"
     ]
    }
   ],
   "source": [
    "max_len = 0\n",
    "\n",
    "for sent in dataset_train_without_na.Contents:\n",
    "    sent_len = len(sent.split())\n",
    "    max_len = max(max_len,sent_len)\n",
    "print(max_len)"
   ]
  },
  {
   "cell_type": "code",
   "execution_count": 39,
   "metadata": {
    "colab": {
     "base_uri": "https://localhost:8080/"
    },
    "id": "iUXInB2GFsjd",
    "outputId": "cf4601a3-b5c2-409c-ccae-7a56dd941625"
   },
   "outputs": [
    {
     "name": "stdout",
     "output_type": "stream",
     "text": [
      "cpu\n"
     ]
    }
   ],
   "source": [
    "device = torch.device(\"cuda\" if torch.cuda.is_available() else \"cpu\")\n",
    "print(device)\n",
    "load_model = False\n",
    "save_model = True"
   ]
  },
  {
   "cell_type": "code",
   "execution_count": 40,
   "metadata": {
    "id": "0XFyicGoFsje"
   },
   "outputs": [],
   "source": [
    "batch_size = 258\n",
    "\n",
    "train_iterator, valid_iterator = BucketIterator.splits(\n",
    "    (train_data, valid_data),\n",
    "    batch_size=batch_size,\n",
    "    sort_within_batch=True,\n",
    "    sort_key=lambda x: len(x.src),\n",
    "    device= device\n",
    ")"
   ]
  },
  {
   "cell_type": "markdown",
   "metadata": {
    "id": "NFffJzmPFsje"
   },
   "source": [
    "# **Utilities Functions**"
   ]
  },
  {
   "cell_type": "code",
   "execution_count": 41,
   "metadata": {
    "id": "Kroslck_Fsje"
   },
   "outputs": [],
   "source": [
    "def save_checkpoint(state, filename=\"my_checkpoint.pth.tar\"):\n",
    "    print(\"=> Saving checkpoint\")\n",
    "    torch.save(state, filename)\n",
    "\n",
    "\n",
    "def load_checkpoint(checkpoint, model, optimizer):\n",
    "    print(\"=> Loading checkpoint\")\n",
    "    model.load_state_dict(checkpoint[\"state_dict\"])\n",
    "    optimizer.load_state_dict(checkpoint[\"optimizer\"])"
   ]
  },
  {
   "cell_type": "code",
   "execution_count": 42,
   "metadata": {
    "id": "XevetlhlFsjf"
   },
   "outputs": [],
   "source": [
    "def translate_sentence(model, sentence, Contents, IPA, device, max_length=64):\n",
    "    tokenizer = lambda x: x.split()\n",
    "    if type(sentence) == str:\n",
    "        tokens = tokenizer(sentence)\n",
    "    else:\n",
    "        tokens = [token for token in sentence]\n",
    "\n",
    "    tokens.insert(0, Contents.init_token)\n",
    "    tokens.append(Contents.eos_token)\n",
    "\n",
    "    text_to_indices = [Contents.vocab.stoi[token] for token in tokens]\n",
    "\n",
    "    sentence_tensor = torch.LongTensor(text_to_indices).unsqueeze(1).to(device)\n",
    "\n",
    "    outputs = [IPA.vocab.stoi[\"<sos>\"]]\n",
    "    for i in range(max_length):\n",
    "        trg_tensor = torch.LongTensor(outputs).unsqueeze(1).to(device)\n",
    "\n",
    "        with torch.no_grad():\n",
    "            output = model(sentence_tensor, trg_tensor)\n",
    "\n",
    "        best_guess = output.argmax(2)[-1, :].item()\n",
    "        outputs.append(best_guess)\n",
    "\n",
    "        if best_guess == IPA.vocab.stoi[\"<eos>\"]:\n",
    "            break\n",
    "\n",
    "    translated_sentence = [IPA.vocab.itos[idx] for idx in outputs]\n",
    "    return translated_sentence[1:]\n"
   ]
  },
  {
   "cell_type": "code",
   "execution_count": 43,
   "metadata": {
    "id": "vBOM0cpdFsjf"
   },
   "outputs": [],
   "source": [
    "def bleu(data, model, Contents, IPA, device):\n",
    "    targets = []\n",
    "    outputs = []\n",
    "\n",
    "    for example in data:\n",
    "        src = vars(example)[\"src\"]\n",
    "        trg = vars(example)[\"trg\"]\n",
    "\n",
    "        prediction = translate_sentence(model, src, Contents, IPA, device)\n",
    "        prediction = prediction[:-1]  # remove <eos> token\n",
    "\n",
    "        targets.append([trg])\n",
    "        outputs.append(prediction)\n",
    "\n",
    "    return bleu_score(outputs, targets)\n"
   ]
  },
  {
   "cell_type": "markdown",
   "metadata": {
    "id": "WDOXc0o8Fsjg"
   },
   "source": [
    "# Seq2Seq Attention"
   ]
  },
  {
   "cell_type": "code",
   "execution_count": 44,
   "metadata": {
    "id": "UIUY4Gu6Fsjg"
   },
   "outputs": [],
   "source": [
    "\n",
    "class Encoder(nn.Module):\n",
    "    def __init__(self, input_size, embedding_size, hidden_size, num_layers, p):\n",
    "        super(Encoder, self).__init__()\n",
    "        self.hidden_size = hidden_size\n",
    "        self.num_layers = num_layers\n",
    "\n",
    "        self.embedding = nn.Embedding(input_size, embedding_size)\n",
    "        self.rnn = nn.LSTM(embedding_size, hidden_size, num_layers, bidirectional=True)\n",
    "\n",
    "        self.fc_hidden = nn.Linear(hidden_size * 2, hidden_size)\n",
    "        self.fc_cell = nn.Linear(hidden_size * 2, hidden_size)\n",
    "        self.dropout = nn.Dropout(p)\n",
    "\n",
    "    def forward(self, x):\n",
    "\n",
    "        embedding = self.dropout(self.embedding(x))\n",
    "\n",
    "        encoder_states, (hidden, cell) = self.rnn(embedding)\n",
    "        hidden = self.fc_hidden(torch.cat((hidden[0:1], hidden[1:2]), dim=2))\n",
    "        cell = self.fc_cell(torch.cat((cell[0:1], cell[1:2]), dim=2))\n",
    "\n",
    "        return encoder_states, hidden, cell\n"
   ]
  },
  {
   "cell_type": "code",
   "execution_count": 45,
   "metadata": {
    "id": "6uMQ5fMuFsjg"
   },
   "outputs": [],
   "source": [
    "\n",
    "class Decoder(nn.Module):\n",
    "    def __init__(\n",
    "        self, input_size, embedding_size, hidden_size, output_size, num_layers, p\n",
    "    ):\n",
    "        super(Decoder, self).__init__()\n",
    "        self.hidden_size = hidden_size\n",
    "        self.num_layers = num_layers\n",
    "\n",
    "        self.embedding = nn.Embedding(input_size, embedding_size)\n",
    "        self.rnn = nn.LSTM(hidden_size * 2 + embedding_size, hidden_size, num_layers)\n",
    "\n",
    "        self.energy = nn.Linear(hidden_size * 3, 1)\n",
    "        self.fc = nn.Linear(hidden_size, output_size)\n",
    "        self.dropout = nn.Dropout(p)\n",
    "        self.softmax = nn.Softmax(dim=0)\n",
    "        self.relu = nn.ReLU()\n",
    "\n",
    "    def forward(self, x, encoder_states, hidden, cell):\n",
    "        x = x.unsqueeze(0)\n",
    "\n",
    "        embedding = self.dropout(self.embedding(x))\n",
    "\n",
    "        sequence_length = encoder_states.shape[0]\n",
    "        h_reshaped = hidden.repeat(sequence_length, 1, 1)\n",
    "\n",
    "        energy = self.relu(self.energy(torch.cat((h_reshaped, encoder_states), dim=2)))\n",
    "\n",
    "        attention = self.softmax(energy)\n",
    "        context_vector = torch.einsum(\"snk,snl->knl\", attention, encoder_states)\n",
    "\n",
    "        rnn_input = torch.cat((context_vector, embedding), dim=2)\n",
    "\n",
    "        outputs, (hidden, cell) = self.rnn(rnn_input, (hidden, cell))\n",
    "\n",
    "        predictions = self.fc(outputs).squeeze(0)\n",
    "\n",
    "        return predictions, hidden, cell"
   ]
  },
  {
   "cell_type": "code",
   "execution_count": 46,
   "metadata": {
    "id": "ymDQH52uFsjh"
   },
   "outputs": [],
   "source": [
    "\n",
    "class Seq2Seq(nn.Module):\n",
    "    def __init__(self, encoder, decoder):\n",
    "        super(Seq2Seq, self).__init__()\n",
    "        self.encoder = encoder\n",
    "        self.decoder = decoder\n",
    "\n",
    "    def forward(self, source, target, teacher_force_ratio=0.5):\n",
    "        batch_size = source.shape[1]\n",
    "        target_len = target.shape[0]\n",
    "        target_vocab_size = len(IPA.vocab)\n",
    "\n",
    "        outputs = torch.zeros(target_len, batch_size, target_vocab_size).to(device)\n",
    "        encoder_states, hidden, cell = self.encoder(source)\n",
    "\n",
    "        x = target[0]\n",
    "\n",
    "        for t in range(1, target_len):\n",
    "            output, hidden, cell = self.decoder(x, encoder_states, hidden, cell)\n",
    "\n",
    "            outputs[t] = output\n",
    "\n",
    "            best_guess = output.argmax(1)\n",
    "\n",
    "            x = target[t] if np.random.random() < teacher_force_ratio else best_guess\n",
    "\n",
    "        return outputs\n"
   ]
  },
  {
   "cell_type": "code",
   "execution_count": 47,
   "metadata": {
    "id": "-H3zzj1zFsjh"
   },
   "outputs": [],
   "source": [
    "\n",
    "num_epochs = 100\n",
    "learning_rate = 3e-4\n",
    "batch_size = 32\n",
    "\n",
    "input_size_encoder = len(Contents.vocab)\n",
    "input_size_decoder = len(IPA.vocab)\n",
    "output_size = len(IPA.vocab)\n",
    "encoder_embedding_size = 100\n",
    "decoder_embedding_size = 100\n",
    "hidden_size = 1024\n",
    "num_layers = 1\n",
    "enc_dropout = 0.0\n",
    "dec_dropout = 0.0"
   ]
  },
  {
   "cell_type": "code",
   "execution_count": 48,
   "metadata": {
    "id": "nuwmhtq9Fsji"
   },
   "outputs": [],
   "source": [
    "encoder_net = Encoder(\n",
    "    input_size_encoder, encoder_embedding_size, hidden_size, num_layers, enc_dropout\n",
    ").to(device)\n",
    "\n",
    "decoder_net = Decoder(\n",
    "    input_size_decoder,\n",
    "    decoder_embedding_size,\n",
    "    hidden_size,\n",
    "    output_size,\n",
    "    num_layers,\n",
    "    dec_dropout,\n",
    ").to(device)\n",
    "\n",
    "model = Seq2Seq(encoder_net, decoder_net).to(device)\n",
    "optimizer = optim.Adam(model.parameters(), lr=learning_rate)\n",
    "pad_idx = Contents.vocab.stoi[\"<pad>\"]\n",
    "criterion = nn.CrossEntropyLoss(ignore_index=pad_idx)"
   ]
  },
  {
   "cell_type": "code",
   "execution_count": 49,
   "metadata": {
    "id": "ZysZTNauHjOM"
   },
   "outputs": [],
   "source": [
    "if load_model:\n",
    "    load_checkpoint(torch.load(\"my_checkpoint.pth.tar\"), model, optimizer)\n"
   ]
  },
  {
   "cell_type": "markdown",
   "metadata": {
    "id": "cl1tqnXwNsN5"
   },
   "source": [
    "# **Training the Model**"
   ]
  },
  {
   "cell_type": "code",
   "execution_count": 51,
   "metadata": {
    "colab": {
     "base_uri": "https://localhost:8080/"
    },
    "id": "E3hoydv8Fsji",
    "outputId": "3ce9c8b2-ca91-4966-f422-770e6fb66635"
   },
   "outputs": [
    {
     "name": "stdout",
     "output_type": "stream",
     "text": [
      "Epoch:1/100\n",
      "=> Saving checkpoint\n"
     ]
    },
    {
     "name": "stderr",
     "output_type": "stream",
     "text": [
      "100%|███████████████████████████████████████████████████████████████████████████████████| 7/7 [11:40<00:00, 100.09s/it]\n"
     ]
    },
    {
     "name": "stdout",
     "output_type": "stream",
     "text": [
      "Epoch:2/100\n",
      "=> Saving checkpoint\n"
     ]
    },
    {
     "name": "stderr",
     "output_type": "stream",
     "text": [
      "100%|███████████████████████████████████████████████████████████████████████████████████| 7/7 [11:40<00:00, 100.08s/it]\n"
     ]
    },
    {
     "name": "stdout",
     "output_type": "stream",
     "text": [
      "Epoch:3/100\n",
      "=> Saving checkpoint\n"
     ]
    },
    {
     "name": "stderr",
     "output_type": "stream",
     "text": [
      "100%|████████████████████████████████████████████████████████████████████████████████████| 7/7 [10:28<00:00, 89.80s/it]\n"
     ]
    },
    {
     "name": "stdout",
     "output_type": "stream",
     "text": [
      "Epoch:4/100\n",
      "=> Saving checkpoint\n"
     ]
    },
    {
     "name": "stderr",
     "output_type": "stream",
     "text": [
      "100%|████████████████████████████████████████████████████████████████████████████████████| 7/7 [10:05<00:00, 86.45s/it]\n"
     ]
    },
    {
     "name": "stdout",
     "output_type": "stream",
     "text": [
      "Epoch:5/100\n",
      "=> Saving checkpoint\n"
     ]
    },
    {
     "name": "stderr",
     "output_type": "stream",
     "text": [
      "100%|████████████████████████████████████████████████████████████████████████████████████| 7/7 [10:09<00:00, 87.09s/it]\n"
     ]
    },
    {
     "name": "stdout",
     "output_type": "stream",
     "text": [
      "Epoch:6/100\n",
      "=> Saving checkpoint\n"
     ]
    },
    {
     "name": "stderr",
     "output_type": "stream",
     "text": [
      "100%|████████████████████████████████████████████████████████████████████████████████████| 7/7 [10:04<00:00, 86.42s/it]\n"
     ]
    },
    {
     "name": "stdout",
     "output_type": "stream",
     "text": [
      "Epoch:7/100\n",
      "=> Saving checkpoint\n"
     ]
    },
    {
     "name": "stderr",
     "output_type": "stream",
     "text": [
      "100%|████████████████████████████████████████████████████████████████████████████████████| 7/7 [10:15<00:00, 87.97s/it]\n"
     ]
    },
    {
     "name": "stdout",
     "output_type": "stream",
     "text": [
      "Epoch:8/100\n",
      "=> Saving checkpoint\n"
     ]
    },
    {
     "name": "stderr",
     "output_type": "stream",
     "text": [
      "100%|████████████████████████████████████████████████████████████████████████████████████| 7/7 [10:49<00:00, 92.80s/it]\n"
     ]
    },
    {
     "name": "stdout",
     "output_type": "stream",
     "text": [
      "Epoch:9/100\n",
      "=> Saving checkpoint\n"
     ]
    },
    {
     "name": "stderr",
     "output_type": "stream",
     "text": [
      "100%|███████████████████████████████████████████████████████████████████████████████████| 7/7 [12:15<00:00, 105.07s/it]\n"
     ]
    },
    {
     "name": "stdout",
     "output_type": "stream",
     "text": [
      "Epoch:10/100\n",
      "=> Saving checkpoint\n"
     ]
    },
    {
     "name": "stderr",
     "output_type": "stream",
     "text": [
      "100%|███████████████████████████████████████████████████████████████████████████████████| 7/7 [12:13<00:00, 104.78s/it]\n"
     ]
    },
    {
     "name": "stdout",
     "output_type": "stream",
     "text": [
      "Epoch:11/100\n",
      "=> Saving checkpoint\n"
     ]
    },
    {
     "name": "stderr",
     "output_type": "stream",
     "text": [
      "100%|███████████████████████████████████████████████████████████████████████████████████| 7/7 [13:10<00:00, 112.89s/it]\n"
     ]
    },
    {
     "name": "stdout",
     "output_type": "stream",
     "text": [
      "Epoch:12/100\n",
      "=> Saving checkpoint\n"
     ]
    },
    {
     "name": "stderr",
     "output_type": "stream",
     "text": [
      "100%|███████████████████████████████████████████████████████████████████████████████████| 7/7 [12:03<00:00, 103.38s/it]\n"
     ]
    },
    {
     "name": "stdout",
     "output_type": "stream",
     "text": [
      "Epoch:13/100\n",
      "=> Saving checkpoint\n"
     ]
    },
    {
     "name": "stderr",
     "output_type": "stream",
     "text": [
      "100%|███████████████████████████████████████████████████████████████████████████████████| 7/7 [13:09<00:00, 112.83s/it]\n"
     ]
    },
    {
     "name": "stdout",
     "output_type": "stream",
     "text": [
      "Epoch:14/100\n",
      "=> Saving checkpoint\n"
     ]
    },
    {
     "name": "stderr",
     "output_type": "stream",
     "text": [
      "100%|███████████████████████████████████████████████████████████████████████████████████| 7/7 [12:09<00:00, 104.20s/it]\n"
     ]
    },
    {
     "name": "stdout",
     "output_type": "stream",
     "text": [
      "Epoch:15/100\n",
      "=> Saving checkpoint\n"
     ]
    },
    {
     "name": "stderr",
     "output_type": "stream",
     "text": [
      "100%|███████████████████████████████████████████████████████████████████████████████████| 7/7 [13:23<00:00, 114.82s/it]\n"
     ]
    },
    {
     "name": "stdout",
     "output_type": "stream",
     "text": [
      "Epoch:16/100\n",
      "=> Saving checkpoint\n"
     ]
    },
    {
     "name": "stderr",
     "output_type": "stream",
     "text": [
      "100%|███████████████████████████████████████████████████████████████████████████████████| 7/7 [12:06<00:00, 103.74s/it]\n"
     ]
    },
    {
     "name": "stdout",
     "output_type": "stream",
     "text": [
      "Epoch:17/100\n",
      "=> Saving checkpoint\n"
     ]
    },
    {
     "name": "stderr",
     "output_type": "stream",
     "text": [
      "100%|████████████████████████████████████████████████████████████████████████████████████| 7/7 [10:48<00:00, 92.65s/it]\n"
     ]
    },
    {
     "name": "stdout",
     "output_type": "stream",
     "text": [
      "Epoch:18/100\n",
      "=> Saving checkpoint\n"
     ]
    },
    {
     "name": "stderr",
     "output_type": "stream",
     "text": [
      "100%|████████████████████████████████████████████████████████████████████████████████████| 7/7 [10:24<00:00, 89.16s/it]\n"
     ]
    },
    {
     "name": "stdout",
     "output_type": "stream",
     "text": [
      "Epoch:19/100\n",
      "=> Saving checkpoint\n"
     ]
    },
    {
     "name": "stderr",
     "output_type": "stream",
     "text": [
      "100%|████████████████████████████████████████████████████████████████████████████████████| 7/7 [10:20<00:00, 88.65s/it]\n"
     ]
    },
    {
     "name": "stdout",
     "output_type": "stream",
     "text": [
      "Epoch:20/100\n",
      "=> Saving checkpoint\n"
     ]
    },
    {
     "name": "stderr",
     "output_type": "stream",
     "text": [
      "100%|████████████████████████████████████████████████████████████████████████████████████| 7/7 [10:52<00:00, 93.28s/it]\n"
     ]
    }
   ],
   "source": [
    "train_losses = []\n",
    "for epoch in range(20):\n",
    "    print(f'Epoch:{epoch+1}/{num_epochs}')\n",
    "    if save_model:\n",
    "        checkpoint = {\n",
    "            \"state_dict\": model.state_dict(),\n",
    "            \"optimizer\": optimizer.state_dict(),\n",
    "        }\n",
    "        save_checkpoint(checkpoint)\n",
    "\n",
    "    train_loss = []\n",
    "    for batch_idx, batch in enumerate(tqdm(train_iterator)):\n",
    "\n",
    "        inp_data = batch.src.to(device)\n",
    "        target = batch.trg.to(device)\n",
    "\n",
    "        output = model(inp_data, target)\n",
    "\n",
    "        output = output[1:].reshape(-1, output.shape[2])\n",
    "        target = target[1:].reshape(-1)\n",
    "\n",
    "        optimizer.zero_grad()\n",
    "        loss = criterion(output, target)\n",
    "        train_loss.append(loss.item())\n",
    "        loss.backward()\n",
    "\n",
    "        torch.nn.utils.clip_grad_norm_(model.parameters(), max_norm=1)\n",
    "\n",
    "        optimizer.step()\n",
    "\n",
    "    train_losses.append(np.mean(train_loss))\n",
    "    "
   ]
  },
  {
   "cell_type": "code",
   "execution_count": 52,
   "metadata": {
    "colab": {
     "base_uri": "https://localhost:8080/",
     "height": 447
    },
    "id": "pbdvQQ_TFsjj",
    "outputId": "5c3629a3-1a79-4f17-9448-245cab32c0cc"
   },
   "outputs": [
    {
     "name": "stderr",
     "output_type": "stream",
     "text": [
      "C:\\Users\\Sirfowahid\\anaconda3\\envs\\Pytorch\\Lib\\site-packages\\seaborn\\_oldcore.py:1498: FutureWarning: is_categorical_dtype is deprecated and will be removed in a future version. Use isinstance(dtype, CategoricalDtype) instead\n",
      "  if pd.api.types.is_categorical_dtype(vector):\n",
      "C:\\Users\\Sirfowahid\\anaconda3\\envs\\Pytorch\\Lib\\site-packages\\seaborn\\_oldcore.py:1498: FutureWarning: is_categorical_dtype is deprecated and will be removed in a future version. Use isinstance(dtype, CategoricalDtype) instead\n",
      "  if pd.api.types.is_categorical_dtype(vector):\n",
      "C:\\Users\\Sirfowahid\\anaconda3\\envs\\Pytorch\\Lib\\site-packages\\seaborn\\_oldcore.py:1119: FutureWarning: use_inf_as_na option is deprecated and will be removed in a future version. Convert inf values to NaN before operating instead.\n",
      "  with pd.option_context('mode.use_inf_as_na', True):\n",
      "C:\\Users\\Sirfowahid\\anaconda3\\envs\\Pytorch\\Lib\\site-packages\\seaborn\\_oldcore.py:1119: FutureWarning: use_inf_as_na option is deprecated and will be removed in a future version. Convert inf values to NaN before operating instead.\n",
      "  with pd.option_context('mode.use_inf_as_na', True):\n"
     ]
    },
    {
     "data": {
      "image/png": "[encoded data removed]",
      "text/plain": [
       "<Figure size 640x480 with 1 Axes>"
      ]
     },
     "metadata": {},
     "output_type": "display_data"
    }
   ],
   "source": [
    "sns.lineplot(train_losses)\n",
    "plt.show()"
   ]
  },
  {
   "cell_type": "code",
   "execution_count": 57,
   "metadata": {
    "id": "8KNUbSbzFsjj"
   },
   "outputs": [
    {
     "ename": "TypeError",
     "evalue": "split_with_sizes(): argument 'split_sizes' (position 2) must be tuple of ints, not str",
     "output_type": "error",
     "traceback": [
      "\u001b[1;31m---------------------------------------------------------------------------\u001b[0m",
      "\u001b[1;31mTypeError\u001b[0m                                 Traceback (most recent call last)",
      "Cell \u001b[1;32mIn[57], line 1\u001b[0m\n\u001b[1;32m----> 1\u001b[0m bleu(train_iterator, model, Contents, IPA, device)\n",
      "Cell \u001b[1;32mIn[43], line 15\u001b[0m, in \u001b[0;36mbleu\u001b[1;34m(data, model, Contents, IPA, device)\u001b[0m\n\u001b[0;32m     12\u001b[0m     targets\u001b[38;5;241m.\u001b[39mappend([trg])\n\u001b[0;32m     13\u001b[0m     outputs\u001b[38;5;241m.\u001b[39mappend(prediction)\n\u001b[1;32m---> 15\u001b[0m \u001b[38;5;28;01mreturn\u001b[39;00m bleu_score(outputs, targets)\n",
      "File \u001b[1;32m~\\anaconda3\\envs\\Pytorch\\Lib\\site-packages\\torchtext\\data\\metrics.py:74\u001b[0m, in \u001b[0;36mbleu_score\u001b[1;34m(candidate_corpus, references_corpus, max_n, weights)\u001b[0m\n\u001b[0;32m     71\u001b[0m refs_len_list \u001b[38;5;241m=\u001b[39m [\u001b[38;5;28mfloat\u001b[39m(\u001b[38;5;28mlen\u001b[39m(ref)) \u001b[38;5;28;01mfor\u001b[39;00m ref \u001b[38;5;129;01min\u001b[39;00m refs]\n\u001b[0;32m     72\u001b[0m refs_len \u001b[38;5;241m+\u001b[39m\u001b[38;5;241m=\u001b[39m \u001b[38;5;28mmin\u001b[39m(refs_len_list, key\u001b[38;5;241m=\u001b[39m\u001b[38;5;28;01mlambda\u001b[39;00m x: \u001b[38;5;28mabs\u001b[39m(\u001b[38;5;28mlen\u001b[39m(candidate) \u001b[38;5;241m-\u001b[39m x))\n\u001b[1;32m---> 74\u001b[0m reference_counters \u001b[38;5;241m=\u001b[39m _compute_ngram_counter(refs[\u001b[38;5;241m0\u001b[39m], max_n)\n\u001b[0;32m     75\u001b[0m \u001b[38;5;28;01mfor\u001b[39;00m ref \u001b[38;5;129;01min\u001b[39;00m refs[\u001b[38;5;241m1\u001b[39m:]:\n\u001b[0;32m     76\u001b[0m     reference_counters \u001b[38;5;241m=\u001b[39m reference_counters \u001b[38;5;241m|\u001b[39m _compute_ngram_counter(ref, max_n)\n",
      "File \u001b[1;32m~\\anaconda3\\envs\\Pytorch\\Lib\\site-packages\\torchtext\\data\\metrics.py:29\u001b[0m, in \u001b[0;36m_compute_ngram_counter\u001b[1;34m(tokens, max_n)\u001b[0m\n\u001b[0;32m      8\u001b[0m \u001b[38;5;250m\u001b[39m\u001b[38;5;124;03m\"\"\" Create a Counter with a count of unique n-grams in the tokens list\u001b[39;00m\n\u001b[0;32m      9\u001b[0m \n\u001b[0;32m     10\u001b[0m \u001b[38;5;124;03mArguments:\u001b[39;00m\n\u001b[1;32m   (...)\u001b[0m\n\u001b[0;32m     26\u001b[0m \u001b[38;5;124;03m         ('me', 'me', 'you'): 1})\u001b[39;00m\n\u001b[0;32m     27\u001b[0m \u001b[38;5;124;03m\"\"\"\u001b[39;00m\n\u001b[0;32m     28\u001b[0m \u001b[38;5;28;01massert\u001b[39;00m max_n \u001b[38;5;241m>\u001b[39m \u001b[38;5;241m0\u001b[39m\n\u001b[1;32m---> 29\u001b[0m ngrams_counter \u001b[38;5;241m=\u001b[39m collections\u001b[38;5;241m.\u001b[39mCounter(\u001b[38;5;28mtuple\u001b[39m(x\u001b[38;5;241m.\u001b[39msplit(\u001b[38;5;124m'\u001b[39m\u001b[38;5;124m \u001b[39m\u001b[38;5;124m'\u001b[39m))\n\u001b[0;32m     30\u001b[0m                                      \u001b[38;5;28;01mfor\u001b[39;00m x \u001b[38;5;129;01min\u001b[39;00m ngrams_iterator(tokens, max_n))\n\u001b[0;32m     32\u001b[0m \u001b[38;5;28;01mreturn\u001b[39;00m ngrams_counter\n",
      "File \u001b[1;32m~\\anaconda3\\envs\\Pytorch\\Lib\\collections\\__init__.py:599\u001b[0m, in \u001b[0;36mCounter.__init__\u001b[1;34m(self, iterable, **kwds)\u001b[0m\n\u001b[0;32m    588\u001b[0m \u001b[38;5;250m\u001b[39m\u001b[38;5;124;03m'''Create a new, empty Counter object.  And if given, count elements\u001b[39;00m\n\u001b[0;32m    589\u001b[0m \u001b[38;5;124;03mfrom an input iterable.  Or, initialize the count from another mapping\u001b[39;00m\n\u001b[0;32m    590\u001b[0m \u001b[38;5;124;03mof elements to their counts.\u001b[39;00m\n\u001b[1;32m   (...)\u001b[0m\n\u001b[0;32m    596\u001b[0m \n\u001b[0;32m    597\u001b[0m \u001b[38;5;124;03m'''\u001b[39;00m\n\u001b[0;32m    598\u001b[0m \u001b[38;5;28msuper\u001b[39m()\u001b[38;5;241m.\u001b[39m\u001b[38;5;21m__init__\u001b[39m()\n\u001b[1;32m--> 599\u001b[0m \u001b[38;5;28mself\u001b[39m\u001b[38;5;241m.\u001b[39mupdate(iterable, \u001b[38;5;241m*\u001b[39m\u001b[38;5;241m*\u001b[39mkwds)\n",
      "File \u001b[1;32m~\\anaconda3\\envs\\Pytorch\\Lib\\collections\\__init__.py:690\u001b[0m, in \u001b[0;36mCounter.update\u001b[1;34m(self, iterable, **kwds)\u001b[0m\n\u001b[0;32m    688\u001b[0m             \u001b[38;5;28msuper\u001b[39m()\u001b[38;5;241m.\u001b[39mupdate(iterable)\n\u001b[0;32m    689\u001b[0m     \u001b[38;5;28;01melse\u001b[39;00m:\n\u001b[1;32m--> 690\u001b[0m         _count_elements(\u001b[38;5;28mself\u001b[39m, iterable)\n\u001b[0;32m    691\u001b[0m \u001b[38;5;28;01mif\u001b[39;00m kwds:\n\u001b[0;32m    692\u001b[0m     \u001b[38;5;28mself\u001b[39m\u001b[38;5;241m.\u001b[39mupdate(kwds)\n",
      "File \u001b[1;32m~\\anaconda3\\envs\\Pytorch\\Lib\\site-packages\\torchtext\\data\\metrics.py:29\u001b[0m, in \u001b[0;36m<genexpr>\u001b[1;34m(.0)\u001b[0m\n\u001b[0;32m      8\u001b[0m \u001b[38;5;250m\u001b[39m\u001b[38;5;124;03m\"\"\" Create a Counter with a count of unique n-grams in the tokens list\u001b[39;00m\n\u001b[0;32m      9\u001b[0m \n\u001b[0;32m     10\u001b[0m \u001b[38;5;124;03mArguments:\u001b[39;00m\n\u001b[1;32m   (...)\u001b[0m\n\u001b[0;32m     26\u001b[0m \u001b[38;5;124;03m         ('me', 'me', 'you'): 1})\u001b[39;00m\n\u001b[0;32m     27\u001b[0m \u001b[38;5;124;03m\"\"\"\u001b[39;00m\n\u001b[0;32m     28\u001b[0m \u001b[38;5;28;01massert\u001b[39;00m max_n \u001b[38;5;241m>\u001b[39m \u001b[38;5;241m0\u001b[39m\n\u001b[1;32m---> 29\u001b[0m ngrams_counter \u001b[38;5;241m=\u001b[39m collections\u001b[38;5;241m.\u001b[39mCounter(\u001b[38;5;28mtuple\u001b[39m(x\u001b[38;5;241m.\u001b[39msplit(\u001b[38;5;124m'\u001b[39m\u001b[38;5;124m \u001b[39m\u001b[38;5;124m'\u001b[39m))\n\u001b[0;32m     30\u001b[0m                                      \u001b[38;5;28;01mfor\u001b[39;00m x \u001b[38;5;129;01min\u001b[39;00m ngrams_iterator(tokens, max_n))\n\u001b[0;32m     32\u001b[0m \u001b[38;5;28;01mreturn\u001b[39;00m ngrams_counter\n",
      "File \u001b[1;32m~\\anaconda3\\envs\\Pytorch\\Lib\\site-packages\\torch\\_tensor.py:803\u001b[0m, in \u001b[0;36mTensor.split\u001b[1;34m(self, split_size, dim)\u001b[0m\n\u001b[0;32m    801\u001b[0m     \u001b[38;5;28;01mreturn\u001b[39;00m torch\u001b[38;5;241m.\u001b[39m_VF\u001b[38;5;241m.\u001b[39msplit(\u001b[38;5;28mself\u001b[39m, split_size, dim)  \u001b[38;5;66;03m# type: ignore[attr-defined]\u001b[39;00m\n\u001b[0;32m    802\u001b[0m \u001b[38;5;28;01melse\u001b[39;00m:\n\u001b[1;32m--> 803\u001b[0m     \u001b[38;5;28;01mreturn\u001b[39;00m torch\u001b[38;5;241m.\u001b[39m_VF\u001b[38;5;241m.\u001b[39msplit_with_sizes(\u001b[38;5;28mself\u001b[39m, split_size, dim)\n",
      "\u001b[1;31mTypeError\u001b[0m: split_with_sizes(): argument 'split_sizes' (position 2) must be tuple of ints, not str"
     ]
    }
   ],
   "source": [
    "bleu(train_iterator, model, Contents, IPA, device)"
   ]
  },
  {
   "cell_type": "markdown",
   "metadata": {},
   "source": [
    "# **Making Prediction With Test Data**"
   ]
  },
  {
   "cell_type": "code",
   "execution_count": 54,
   "metadata": {},
   "outputs": [
    {
     "data": {
      "text/html": [
       "<div>\n",
       "<style scoped>\n",
       "    .dataframe tbody tr th:only-of-type {\n",
       "        vertical-align: middle;\n",
       "    }\n",
       "\n",
       "    .dataframe tbody tr th {\n",
       "        vertical-align: top;\n",
       "    }\n",
       "\n",
       "    .dataframe thead th {\n",
       "        text-align: right;\n",
       "    }\n",
       "</style>\n",
       "<table border=\"1\" class=\"dataframe\">\n",
       "  <thead>\n",
       "    <tr style=\"text-align: right;\">\n",
       "      <th></th>\n",
       "      <th>Index</th>\n",
       "      <th>District</th>\n",
       "      <th>Contents</th>\n",
       "    </tr>\n",
       "  </thead>\n",
       "  <tbody>\n",
       "    <tr>\n",
       "      <th>0</th>\n",
       "      <td>0</td>\n",
       "      <td>Rangpur</td>\n",
       "      <td>এলা সবায় সবার  হাতোত &lt;&gt; অসহায় মানুষ আচে?</td>\n",
       "    </tr>\n",
       "    <tr>\n",
       "      <th>1</th>\n",
       "      <td>1</td>\n",
       "      <td>Rangpur</td>\n",
       "      <td>কেউ কারো ইয়া নাই।</td>\n",
       "    </tr>\n",
       "    <tr>\n",
       "      <th>2</th>\n",
       "      <td>2</td>\n",
       "      <td>Rangpur</td>\n",
       "      <td>এলা ওই যে, কাইলকা ব্যাটায় ইপতারি আনচে, খাইচোং,...</td>\n",
       "    </tr>\n",
       "    <tr>\n",
       "      <th>3</th>\n",
       "      <td>3</td>\n",
       "      <td>Rangpur</td>\n",
       "      <td>আর মুই আগোত কী করচিনু?</td>\n",
       "    </tr>\n",
       "    <tr>\n",
       "      <th>4</th>\n",
       "      <td>4</td>\n",
       "      <td>Rangpur</td>\n",
       "      <td>&lt;&gt; আগের কতা বাদ দেও, এলা নাই।</td>\n",
       "    </tr>\n",
       "  </tbody>\n",
       "</table>\n",
       "</div>"
      ],
      "text/plain": [
       "   Index District                                           Contents\n",
       "0      0  Rangpur           এলা সবায় সবার  হাতোত <> অসহায় মানুষ আচে?\n",
       "1      1  Rangpur                                  কেউ কারো ইয়া নাই।\n",
       "2      2  Rangpur  এলা ওই যে, কাইলকা ব্যাটায় ইপতারি আনচে, খাইচোং,...\n",
       "3      3  Rangpur                             আর মুই আগোত কী করচিনু?\n",
       "4      4  Rangpur                      <> আগের কতা বাদ দেও, এলা নাই।"
      ]
     },
     "execution_count": 54,
     "metadata": {},
     "output_type": "execute_result"
    }
   ],
   "source": [
    "dataset_test = pd.read_csv('Dataset/test_regipa.csv')\n",
    "dataset_test.head()"
   ]
  },
  {
   "cell_type": "code",
   "execution_count": null,
   "metadata": {},
   "outputs": [],
   "source": [
    "dataset_test[\"IPA\"] = dataset_test.apply(lambda x:translate_sentence(model, x, Contents, IPA, device, max_length=64),axis=1)\n",
    "dataset_test.head()"
   ]
  },
  {
   "cell_type": "code",
   "execution_count": 56,
   "metadata": {},
   "outputs": [
    {
     "data": {
      "text/plain": [
       "['<unk>',\n",
       " '<sos>',\n",
       " '<sos>',\n",
       " '<sos>',\n",
       " '<sos>',\n",
       " '<>',\n",
       " '<>',\n",
       " '<>',\n",
       " '<>',\n",
       " '<>',\n",
       " '<>',\n",
       " '<>',\n",
       " '<>',\n",
       " '<>',\n",
       " '<>',\n",
       " '<>',\n",
       " '<>',\n",
       " '<>',\n",
       " '<>',\n",
       " '<>',\n",
       " '<>',\n",
       " '<>',\n",
       " '<>',\n",
       " '<>',\n",
       " '<>',\n",
       " '<>',\n",
       " '<>',\n",
       " '<>',\n",
       " '<>',\n",
       " '<>',\n",
       " '<>',\n",
       " '<>',\n",
       " '<>',\n",
       " '<>',\n",
       " '<>',\n",
       " '<>',\n",
       " '<>',\n",
       " '<>',\n",
       " '<>',\n",
       " '<>',\n",
       " '<>',\n",
       " '<>',\n",
       " '<>',\n",
       " '<>',\n",
       " '<>',\n",
       " '<>',\n",
       " '<>',\n",
       " '<>',\n",
       " '<>',\n",
       " '<>',\n",
       " '<>',\n",
       " '<>',\n",
       " '<>',\n",
       " '<>',\n",
       " '<>',\n",
       " '<>',\n",
       " '<>',\n",
       " '<>',\n",
       " '<>',\n",
       " '<>',\n",
       " '<>',\n",
       " '<>',\n",
       " '<>',\n",
       " '<>']"
      ]
     },
     "execution_count": 56,
     "metadata": {},
     "output_type": "execute_result"
    }
   ],
   "source": [
    "translate_sentence(model, dataset_test.Contents[0], Contents, IPA, device, max_length=64)"
   ]
  },
  {
   "cell_type": "code",
   "execution_count": null,
   "metadata": {},
   "outputs": [],
   "source": []
  }
 ],
 "metadata": {
  "accelerator": "GPU",
  "colab": {
   "collapsed_sections": [
    "51P-Qx23ypFM"
   ],
   "gpuType": "T4",
   "provenance": []
  },
  "kernelspec": {
   "display_name": "Python 3 (ipykernel)",
   "language": "python",
   "name": "python3"
  },
  "language_info": {
   "codemirror_mode": {
    "name": "ipython",
    "version": 3
   },
   "file_extension": ".py",
   "mimetype": "text/x-python",
   "name": "python",
   "nbconvert_exporter": "python",
   "pygments_lexer": "ipython3",
   "version": "3.11.5"
  }
 },
 "nbformat": 4,
 "nbformat_minor": 1
}
